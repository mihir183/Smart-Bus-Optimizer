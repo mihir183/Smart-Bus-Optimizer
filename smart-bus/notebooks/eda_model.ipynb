{
  "cells": [
    {
      "cell_type": "markdown",
      "metadata": {},
      "source": [
        "# Smart Bus System - Exploratory Data Analysis and Modeling\n",
        "\n",
        "This notebook contains exploratory data analysis and machine learning modeling for the Smart Bus System.\n",
        "\n",
        "## Table of Contents\n",
        "1. [Data Loading and Overview](#data-loading)\n",
        "2. [Exploratory Data Analysis](#eda)\n",
        "3. [Feature Engineering](#feature-engineering)\n",
        "4. [Model Development](#modeling)\n",
        "5. [Model Evaluation](#evaluation)\n",
        "6. [Predictions and Insights](#insights)\n"
      ]
    },
    {
      "cell_type": "code",
      "execution_count": null,
      "metadata": {},
      "outputs": [],
      "source": [
        "# Import required libraries\n",
        "import pandas as pd\n",
        "import numpy as np\n",
        "import matplotlib.pyplot as plt\n",
        "import seaborn as sns\n",
        "from datetime import datetime, timedelta\n",
        "import warnings\n",
        "warnings.filterwarnings('ignore')\n",
        "\n",
        "# Set plotting style\n",
        "plt.style.use('seaborn-v0_8')\n",
        "sns.set_palette(\"husl\")\n",
        "\n",
        "# Import machine learning libraries\n",
        "from sklearn.model_selection import train_test_split, cross_val_score, GridSearchCV\n",
        "from sklearn.ensemble import RandomForestRegressor, GradientBoostingRegressor\n",
        "from sklearn.linear_model import LinearRegression, Ridge, Lasso\n",
        "from sklearn.preprocessing import StandardScaler, LabelEncoder\n",
        "from sklearn.metrics import mean_absolute_error, mean_squared_error, r2_score\n",
        "from sklearn.pipeline import Pipeline\n",
        "\n",
        "# Import database connection\n",
        "import sys\n",
        "sys.path.append('..')\n",
        "from app import create_app, db\n",
        "from app.models import Route, Bus, Trip, Event, RouteStop, Prediction\n",
        "\n",
        "print(\"Libraries imported successfully!\")\n"
      ]
    },
    {
      "cell_type": "markdown",
      "metadata": {},
      "source": [
        "## 1. Data Loading and Overview {#data-loading}\n"
      ]
    },
    {
      "cell_type": "code",
      "execution_count": null,
      "metadata": {},
      "outputs": [],
      "source": [
        "# Initialize Flask app and database connection\n",
        "app = create_app()\n",
        "app.app_context().push()\n",
        "\n",
        "# Load data from database\n",
        "print(\"Loading data from database...\")\n",
        "\n",
        "# Load routes\n",
        "routes_df = pd.read_sql('SELECT * FROM routes', db.engine)\n",
        "print(f\"Loaded {len(routes_df)} routes\")\n",
        "\n",
        "# Load buses\n",
        "buses_df = pd.read_sql('SELECT * FROM buses', db.engine)\n",
        "print(f\"Loaded {len(buses_df)} buses\")\n",
        "\n",
        "# Load trips\n",
        "trips_df = pd.read_sql('SELECT * FROM trips', db.engine)\n",
        "print(f\"Loaded {len(trips_df)} trips\")\n",
        "\n",
        "# Load events\n",
        "events_df = pd.read_sql('SELECT * FROM events', db.engine)\n",
        "print(f\"Loaded {len(events_df)} events\")\n",
        "\n",
        "# Load route stops\n",
        "stops_df = pd.read_sql('SELECT * FROM route_stops', db.engine)\n",
        "print(f\"Loaded {len(stops_df)} route stops\")\n",
        "\n",
        "# Load predictions\n",
        "predictions_df = pd.read_sql('SELECT * FROM predictions', db.engine)\n",
        "print(f\"Loaded {len(predictions_df)} predictions\")\n",
        "\n",
        "print(\"\\nData loading completed!\")\n"
      ]
    },
    {
      "cell_type": "code",
      "execution_count": null,
      "metadata": {},
      "outputs": [],
      "source": [
        "# Display basic information about the datasets\n",
        "print(\"=== ROUTES DATASET ===\")\n",
        "print(routes_df.info())\n",
        "print(\"\\nFirst few rows:\")\n",
        "print(routes_df.head())\n",
        "\n",
        "print(\"\\n=== TRIPS DATASET ===\")\n",
        "print(trips_df.info())\n",
        "print(\"\\nFirst few rows:\")\n",
        "print(trips_df.head())\n",
        "\n",
        "print(\"\\n=== EVENTS DATASET ===\")\n",
        "print(events_df.info())\n",
        "print(\"\\nFirst few rows:\")\n",
        "print(events_df.head())\n"
      ]
    },
    {
      "cell_type": "markdown",
      "metadata": {},
      "source": [
        "## 2. Exploratory Data Analysis {#eda}\n"
      ]
    },
    {
      "cell_type": "code",
      "execution_count": null,
      "metadata": {},
      "outputs": [],
      "source": [
        "# Convert timestamp columns to datetime\n",
        "trips_df['scheduled_start_time'] = pd.to_datetime(trips_df['scheduled_start_time'])\n",
        "trips_df['actual_start_time'] = pd.to_datetime(trips_df['actual_start_time'])\n",
        "events_df['timestamp'] = pd.to_datetime(events_df['timestamp'])\n",
        "\n",
        "# Analyze trip delays\n",
        "trips_with_delays = trips_df.dropna(subset=['actual_start_time'])\n",
        "trips_with_delays['delay_minutes'] = (trips_with_delays['actual_start_time'] - trips_with_delays['scheduled_start_time']).dt.total_seconds() / 60\n",
        "\n",
        "print(\"=== TRIP DELAY ANALYSIS ===\")\n",
        "print(f\"Average delay: {trips_with_delays['delay_minutes'].mean():.2f} minutes\")\n",
        "print(f\"Median delay: {trips_with_delays['delay_minutes'].median():.2f} minutes\")\n",
        "print(f\"Standard deviation: {trips_with_delays['delay_minutes'].std():.2f} minutes\")\n",
        "print(f\"On-time percentage (within 5 minutes): {(abs(trips_with_delays['delay_minutes']) <= 5).mean() * 100:.1f}%\")\n",
        "\n",
        "# Plot delay distribution\n",
        "plt.figure(figsize=(12, 5))\n",
        "\n",
        "plt.subplot(1, 2, 1)\n",
        "plt.hist(trips_with_delays['delay_minutes'], bins=50, alpha=0.7, edgecolor='black')\n",
        "plt.axvline(0, color='red', linestyle='--', label='On Time')\n",
        "plt.xlabel('Delay (minutes)')\n",
        "plt.ylabel('Frequency')\n",
        "plt.title('Distribution of Trip Delays')\n",
        "plt.legend()\n",
        "\n",
        "plt.subplot(1, 2, 2)\n",
        "plt.boxplot(trips_with_delays['delay_minutes'])\n",
        "plt.ylabel('Delay (minutes)')\n",
        "plt.title('Box Plot of Trip Delays')\n",
        "plt.axhline(0, color='red', linestyle='--', alpha=0.7)\n",
        "\n",
        "plt.tight_layout()\n",
        "plt.show()\n"
      ]
    }
  ],
  "metadata": {
    "language_info": {
      "name": "python"
    }
  },
  "nbformat": 4,
  "nbformat_minor": 2
}
